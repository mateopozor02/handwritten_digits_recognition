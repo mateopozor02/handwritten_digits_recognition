{
 "cells": [
  {
   "cell_type": "code",
   "execution_count": 1,
   "metadata": {},
   "outputs": [],
   "source": [
    "import keras\n",
    "import numpy as np\n",
    "import matplotlib.pyplot as plt\n",
    "from keras.datasets import mnist\n",
    "from keras.models import Sequential\n",
    "from keras.layers import Dense, Dropout, Flatten\n",
    "from keras.layers import Conv2D, MaxPooling2D\n",
    "from keras import backend as K"
   ]
  },
  {
   "cell_type": "markdown",
   "metadata": {},
   "source": [
    "### Se importan los datos"
   ]
  },
  {
   "cell_type": "code",
   "execution_count": 2,
   "metadata": {},
   "outputs": [
    {
     "name": "stdout",
     "output_type": "stream",
     "text": [
      "(60000, 28, 28) (60000,)\n"
     ]
    },
    {
     "data": {
      "text/plain": [
       "<matplotlib.image.AxesImage at 0x18c6975c7c0>"
      ]
     },
     "execution_count": 2,
     "metadata": {},
     "output_type": "execute_result"
    },
    {
     "data": {
      "image/png": "[encoded data removed]",
      "text/plain": [
       "<Figure size 432x288 with 1 Axes>"
      ]
     },
     "metadata": {
      "needs_background": "light"
     },
     "output_type": "display_data"
    }
   ],
   "source": [
    "(X_train, y_train), (X_test, y_test) = mnist.load_data()\n",
    "#Imprime los tamanios de la matriz, y_train.shape() devuelve una sola componente pues son los resultados. \n",
    "print(X_train.shape, y_train.shape)\n",
    "plt.title(y_train[0])\n",
    "plt.imshow(X_train[0], cmap= 'binary')"
   ]
  },
  {
   "cell_type": "markdown",
   "metadata": {},
   "source": [
    "### Preprocesamiento de datos "
   ]
  },
  {
   "cell_type": "code",
   "execution_count": 3,
   "metadata": {},
   "outputs": [],
   "source": [
    "#Se expande la dimension de las matrices para que el algoritmo pueda trabajar con ellas\n",
    "X_train = X_train.reshape(X_train.shape[0], 28, 28, 1).astype('float32')\n",
    "X_test = X_test.reshape(X_test.shape[0], 28, 28, 1).astype('float32')\n",
    "\n",
    "#Se normalizan las imagenes RBG diviendo entre 255\n",
    "X_train = X_train/255.0 \n",
    "X_test = X_test/255.0 "
   ]
  },
  {
   "cell_type": "code",
   "execution_count": 4,
   "metadata": {},
   "outputs": [],
   "source": [
    "#Se convierten los vectores de resultados a matrices categoricas\n",
    "y_train = keras.utils.to_categorical(y_train)\n",
    "y_test = keras.utils.to_categorical(y_test)"
   ]
  },
  {
   "cell_type": "markdown",
   "metadata": {},
   "source": [
    "### Modelo"
   ]
  },
  {
   "cell_type": "code",
   "execution_count": 5,
   "metadata": {},
   "outputs": [],
   "source": [
    "batch_size = 100\n",
    "num_classes = 10\n",
    "epochs = 50\n",
    "\n",
    "model = Sequential()\n",
    "model.add(Conv2D(32, (3, 3), activation='relu', kernel_initializer='he_uniform', input_shape=(28, 28, 1)))\n",
    "model.add(MaxPooling2D((2, 2)))\n",
    "model.add(Conv2D(64, (3, 3), activation='relu', kernel_initializer='he_uniform'))\n",
    "model.add(Conv2D(64, (3, 3), activation='relu', kernel_initializer='he_uniform'))\n",
    "model.add(MaxPooling2D((2, 2)))\n",
    "model.add(Flatten())\n",
    "model.add(Dense(100, activation='relu', kernel_initializer='he_uniform'))\n",
    "\n",
    "#Fully connected output layer \n",
    "model.add(Dense(num_classes, activation='softmax'))"
   ]
  },
  {
   "cell_type": "code",
   "execution_count": 6,
   "metadata": {},
   "outputs": [],
   "source": [
    "model.compile(loss=keras.losses.categorical_crossentropy,optimizer=keras.optimizers.Adadelta(),metrics=['accuracy'])"
   ]
  },
  {
   "cell_type": "code",
   "execution_count": 7,
   "metadata": {},
   "outputs": [],
   "source": [
    "#Callbacks para monitorear overfitting\n",
    "from keras import callbacks\n",
    "\n",
    "es = callbacks.EarlyStopping(monitor= 'val_accuracy', min_delta= 0.01, patience= 4, verbose= 1)\n",
    "\n",
    "mc = callbacks.ModelCheckpoint(\"./mnist.h5\", monitor= 'val_accuracy', verbose= 1, save_best_only= True)\n",
    "\n",
    "cb = [es, mc]"
   ]
  },
  {
   "cell_type": "code",
   "execution_count": 8,
   "metadata": {},
   "outputs": [
    {
     "name": "stdout",
     "output_type": "stream",
     "text": [
      "Epoch 1/50\n",
      "419/420 [============================>.] - ETA: 0s - loss: 2.4637 - accuracy: 0.1079\n",
      "Epoch 1: val_accuracy improved from -inf to 0.17217, saving model to .\\mnist.h5\n",
      "420/420 [==============================] - 16s 37ms/step - loss: 2.4633 - accuracy: 0.1079 - val_loss: 2.2550 - val_accuracy: 0.1722\n",
      "Epoch 2/50\n",
      "419/420 [============================>.] - ETA: 0s - loss: 2.1292 - accuracy: 0.2591\n",
      "Epoch 2: val_accuracy improved from 0.17217 to 0.35594, saving model to .\\mnist.h5\n",
      "420/420 [==============================] - 15s 35ms/step - loss: 2.1290 - accuracy: 0.2590 - val_loss: 2.0044 - val_accuracy: 0.3559\n",
      "Epoch 3/50\n",
      "419/420 [============================>.] - ETA: 0s - loss: 1.9043 - accuracy: 0.4311\n",
      "Epoch 3: val_accuracy improved from 0.35594 to 0.49761, saving model to .\\mnist.h5\n",
      "420/420 [==============================] - 15s 36ms/step - loss: 1.9041 - accuracy: 0.4312 - val_loss: 1.7925 - val_accuracy: 0.4976\n",
      "Epoch 4/50\n",
      "419/420 [============================>.] - ETA: 0s - loss: 1.6984 - accuracy: 0.5432\n",
      "Epoch 4: val_accuracy improved from 0.49761 to 0.58678, saving model to .\\mnist.h5\n",
      "420/420 [==============================] - 15s 36ms/step - loss: 1.6981 - accuracy: 0.5433 - val_loss: 1.5924 - val_accuracy: 0.5868\n",
      "Epoch 5/50\n",
      "419/420 [============================>.] - ETA: 0s - loss: 1.5123 - accuracy: 0.6173\n",
      "Epoch 5: val_accuracy improved from 0.58678 to 0.64944, saving model to .\\mnist.h5\n",
      "420/420 [==============================] - 16s 37ms/step - loss: 1.5121 - accuracy: 0.6174 - val_loss: 1.4156 - val_accuracy: 0.6494\n",
      "Epoch 6/50\n",
      "419/420 [============================>.] - ETA: 0s - loss: 1.3488 - accuracy: 0.6703\n",
      "Epoch 6: val_accuracy improved from 0.64944 to 0.70144, saving model to .\\mnist.h5\n",
      "420/420 [==============================] - 15s 36ms/step - loss: 1.3486 - accuracy: 0.6703 - val_loss: 1.2606 - val_accuracy: 0.7014\n",
      "Epoch 7/50\n",
      "419/420 [============================>.] - ETA: 0s - loss: 1.2062 - accuracy: 0.7123\n",
      "Epoch 7: val_accuracy improved from 0.70144 to 0.74000, saving model to .\\mnist.h5\n",
      "420/420 [==============================] - 15s 36ms/step - loss: 1.2061 - accuracy: 0.7124 - val_loss: 1.1258 - val_accuracy: 0.7400\n",
      "Epoch 8/50\n",
      "419/420 [============================>.] - ETA: 0s - loss: 1.0824 - accuracy: 0.7473\n",
      "Epoch 8: val_accuracy improved from 0.74000 to 0.76978, saving model to .\\mnist.h5\n",
      "420/420 [==============================] - 15s 37ms/step - loss: 1.0823 - accuracy: 0.7472 - val_loss: 1.0096 - val_accuracy: 0.7698\n",
      "Epoch 9/50\n",
      "419/420 [============================>.] - ETA: 0s - loss: 0.9761 - accuracy: 0.7753\n",
      "Epoch 9: val_accuracy improved from 0.76978 to 0.79428, saving model to .\\mnist.h5\n",
      "420/420 [==============================] - 15s 37ms/step - loss: 0.9760 - accuracy: 0.7753 - val_loss: 0.9098 - val_accuracy: 0.7943\n",
      "Epoch 10/50\n",
      "419/420 [============================>.] - ETA: 0s - loss: 0.8847 - accuracy: 0.7973\n",
      "Epoch 10: val_accuracy improved from 0.79428 to 0.81328, saving model to .\\mnist.h5\n",
      "420/420 [==============================] - 15s 37ms/step - loss: 0.8846 - accuracy: 0.7973 - val_loss: 0.8244 - val_accuracy: 0.8133\n",
      "Epoch 11/50\n",
      "419/420 [============================>.] - ETA: 0s - loss: 0.8060 - accuracy: 0.8145\n",
      "Epoch 11: val_accuracy improved from 0.81328 to 0.82872, saving model to .\\mnist.h5\n",
      "420/420 [==============================] - 16s 37ms/step - loss: 0.8058 - accuracy: 0.8145 - val_loss: 0.7512 - val_accuracy: 0.8287\n",
      "Epoch 12/50\n",
      "419/420 [============================>.] - ETA: 0s - loss: 0.7387 - accuracy: 0.8280\n",
      "Epoch 12: val_accuracy improved from 0.82872 to 0.84106, saving model to .\\mnist.h5\n",
      "420/420 [==============================] - 15s 37ms/step - loss: 0.7385 - accuracy: 0.8280 - val_loss: 0.6889 - val_accuracy: 0.8411\n",
      "Epoch 13/50\n",
      "419/420 [============================>.] - ETA: 0s - loss: 0.6807 - accuracy: 0.8403\n",
      "Epoch 13: val_accuracy improved from 0.84106 to 0.85244, saving model to .\\mnist.h5\n",
      "420/420 [==============================] - 15s 37ms/step - loss: 0.6806 - accuracy: 0.8403 - val_loss: 0.6352 - val_accuracy: 0.8524\n",
      "Epoch 14/50\n",
      "419/420 [============================>.] - ETA: 0s - loss: 0.6309 - accuracy: 0.8499\n",
      "Epoch 14: val_accuracy improved from 0.85244 to 0.86161, saving model to .\\mnist.h5\n",
      "420/420 [==============================] - 15s 36ms/step - loss: 0.6308 - accuracy: 0.8499 - val_loss: 0.5895 - val_accuracy: 0.8616\n",
      "Epoch 15/50\n",
      "419/420 [============================>.] - ETA: 0s - loss: 0.5877 - accuracy: 0.8584\n",
      "Epoch 15: val_accuracy improved from 0.86161 to 0.86817, saving model to .\\mnist.h5\n",
      "420/420 [==============================] - 15s 36ms/step - loss: 0.5878 - accuracy: 0.8584 - val_loss: 0.5501 - val_accuracy: 0.8682\n",
      "Epoch 16/50\n",
      "419/420 [============================>.] - ETA: 0s - loss: 0.5505 - accuracy: 0.8659\n",
      "Epoch 16: val_accuracy improved from 0.86817 to 0.87439, saving model to .\\mnist.h5\n",
      "420/420 [==============================] - 15s 37ms/step - loss: 0.5505 - accuracy: 0.8660 - val_loss: 0.5159 - val_accuracy: 0.8744\n",
      "Epoch 17/50\n",
      "419/420 [============================>.] - ETA: 0s - loss: 0.5179 - accuracy: 0.8716\n",
      "Epoch 17: val_accuracy improved from 0.87439 to 0.88022, saving model to .\\mnist.h5\n",
      "420/420 [==============================] - 15s 36ms/step - loss: 0.5179 - accuracy: 0.8716 - val_loss: 0.4859 - val_accuracy: 0.8802\n",
      "Epoch 18/50\n",
      "419/420 [============================>.] - ETA: 0s - loss: 0.4897 - accuracy: 0.8773\n",
      "Epoch 18: val_accuracy improved from 0.88022 to 0.88628, saving model to .\\mnist.h5\n",
      "420/420 [==============================] - 15s 37ms/step - loss: 0.4894 - accuracy: 0.8774 - val_loss: 0.4600 - val_accuracy: 0.8863\n",
      "Epoch 19/50\n",
      "419/420 [============================>.] - ETA: 0s - loss: 0.4641 - accuracy: 0.8833\n",
      "Epoch 19: val_accuracy improved from 0.88628 to 0.89006, saving model to .\\mnist.h5\n",
      "420/420 [==============================] - 15s 37ms/step - loss: 0.4643 - accuracy: 0.8831 - val_loss: 0.4370 - val_accuracy: 0.8901\n",
      "Epoch 20/50\n",
      "419/420 [============================>.] - ETA: 0s - loss: 0.4425 - accuracy: 0.8869\n",
      "Epoch 20: val_accuracy improved from 0.89006 to 0.89406, saving model to .\\mnist.h5\n",
      "420/420 [==============================] - 15s 37ms/step - loss: 0.4423 - accuracy: 0.8869 - val_loss: 0.4169 - val_accuracy: 0.8941\n",
      "Epoch 21/50\n",
      "419/420 [============================>.] - ETA: 0s - loss: 0.4227 - accuracy: 0.8917\n",
      "Epoch 21: val_accuracy improved from 0.89406 to 0.89778, saving model to .\\mnist.h5\n",
      "420/420 [==============================] - 15s 37ms/step - loss: 0.4226 - accuracy: 0.8917 - val_loss: 0.3993 - val_accuracy: 0.8978\n",
      "Epoch 22/50\n",
      "420/420 [==============================] - ETA: 0s - loss: 0.4049 - accuracy: 0.8948\n",
      "Epoch 22: val_accuracy improved from 0.89778 to 0.90050, saving model to .\\mnist.h5\n",
      "420/420 [==============================] - 15s 37ms/step - loss: 0.4049 - accuracy: 0.8948 - val_loss: 0.3830 - val_accuracy: 0.9005\n",
      "Epoch 23/50\n",
      "419/420 [============================>.] - ETA: 0s - loss: 0.3891 - accuracy: 0.8984\n",
      "Epoch 23: val_accuracy improved from 0.90050 to 0.90317, saving model to .\\mnist.h5\n",
      "420/420 [==============================] - 15s 37ms/step - loss: 0.3891 - accuracy: 0.8984 - val_loss: 0.3686 - val_accuracy: 0.9032\n",
      "Epoch 24/50\n",
      "419/420 [============================>.] - ETA: 0s - loss: 0.3752 - accuracy: 0.9011\n",
      "Epoch 24: val_accuracy improved from 0.90317 to 0.90583, saving model to .\\mnist.h5\n",
      "420/420 [==============================] - 15s 37ms/step - loss: 0.3750 - accuracy: 0.9013 - val_loss: 0.3559 - val_accuracy: 0.9058\n",
      "Epoch 25/50\n",
      "419/420 [============================>.] - ETA: 0s - loss: 0.3620 - accuracy: 0.9037\n",
      "Epoch 25: val_accuracy improved from 0.90583 to 0.90844, saving model to .\\mnist.h5\n",
      "420/420 [==============================] - 16s 37ms/step - loss: 0.3621 - accuracy: 0.9036 - val_loss: 0.3439 - val_accuracy: 0.9084\n",
      "Epoch 26/50\n",
      "419/420 [============================>.] - ETA: 0s - loss: 0.3505 - accuracy: 0.9062\n",
      "Epoch 26: val_accuracy improved from 0.90844 to 0.91106, saving model to .\\mnist.h5\n",
      "420/420 [==============================] - 15s 37ms/step - loss: 0.3504 - accuracy: 0.9062 - val_loss: 0.3336 - val_accuracy: 0.9111\n",
      "Epoch 27/50\n",
      "419/420 [============================>.] - ETA: 0s - loss: 0.3400 - accuracy: 0.9088\n",
      "Epoch 27: val_accuracy improved from 0.91106 to 0.91344, saving model to .\\mnist.h5\n",
      "420/420 [==============================] - 15s 37ms/step - loss: 0.3398 - accuracy: 0.9088 - val_loss: 0.3238 - val_accuracy: 0.9134\n",
      "Epoch 28/50\n",
      "419/420 [============================>.] - ETA: 0s - loss: 0.3300 - accuracy: 0.9112\n",
      "Epoch 28: val_accuracy improved from 0.91344 to 0.91522, saving model to .\\mnist.h5\n",
      "420/420 [==============================] - 15s 37ms/step - loss: 0.3301 - accuracy: 0.9112 - val_loss: 0.3149 - val_accuracy: 0.9152\n",
      "Epoch 28: early stopping\n",
      "The model has successfully trained\n"
     ]
    }
   ],
   "source": [
    "hist = model.fit(X_train, y_train, epochs=epochs, batch_size=batch_size, validation_split= 0.3, callbacks= cb)\n",
    "print(\"The model has successfully trained\")"
   ]
  },
  {
   "cell_type": "code",
   "execution_count": 9,
   "metadata": {},
   "outputs": [
    {
     "name": "stdout",
     "output_type": "stream",
     "text": [
      "Test loss: 0.30992984771728516\n",
      "Test accuracy: 0.9164999723434448\n"
     ]
    }
   ],
   "source": [
    "score = model.evaluate(X_test, y_test, verbose=0)\n",
    "print('Test loss:', score[0])\n",
    "print('Test accuracy:', score[1])"
   ]
  }
 ],
 "metadata": {
  "kernelspec": {
   "display_name": "Python 3.9.12 ('base')",
   "language": "python",
   "name": "python3"
  },
  "language_info": {
   "codemirror_mode": {
    "name": "ipython",
    "version": 3
   },
   "file_extension": ".py",
   "mimetype": "text/x-python",
   "name": "python",
   "nbconvert_exporter": "python",
   "pygments_lexer": "ipython3",
   "version": "3.9.12"
  },
  "orig_nbformat": 4,
  "vscode": {
   "interpreter": {
    "hash": "e06ff7da33dc9620448857a90ad8b5f428f0d573d205a934d2841c8aee45ea32"
   }
  }
 },
 "nbformat": 4,
 "nbformat_minor": 2
}
