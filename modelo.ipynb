{
 "cells": [
  {
   "cell_type": "code",
   "execution_count": 1,
   "metadata": {},
   "outputs": [],
   "source": [
    "import keras\n",
    "import numpy as np\n",
    "import matplotlib.pyplot as plt\n",
    "from keras.datasets import mnist\n",
    "from keras.models import Sequential\n",
    "from keras.layers import Dense, Dropout, Flatten\n",
    "from keras.layers import Conv2D, MaxPooling2D\n",
    "from keras import backend as K"
   ]
  },
  {
   "cell_type": "markdown",
   "metadata": {},
   "source": [
    "### Se importan los datos"
   ]
  },
  {
   "cell_type": "code",
   "execution_count": 2,
   "metadata": {},
   "outputs": [
    {
     "name": "stdout",
     "output_type": "stream",
     "text": [
      "(60000, 28, 28) (60000,)\n"
     ]
    },
    {
     "data": {
      "text/plain": [
       "<matplotlib.image.AxesImage at 0x1dc92c8b7c0>"
      ]
     },
     "execution_count": 2,
     "metadata": {},
     "output_type": "execute_result"
    },
    {
     "data": {
      "image/png": "[encoded data removed]",
      "text/plain": [
       "<Figure size 432x288 with 1 Axes>"
      ]
     },
     "metadata": {
      "needs_background": "light"
     },
     "output_type": "display_data"
    }
   ],
   "source": [
    "(X_train, y_train), (X_test, y_test) = mnist.load_data()\n",
    "#Imprime los tamanios de la matriz, y_train.shape() devuelve una sola componente pues son los resultados. \n",
    "print(X_train.shape, y_train.shape)\n",
    "plt.title(y_train[0])\n",
    "plt.imshow(X_train[0], cmap= 'binary')"
   ]
  },
  {
   "cell_type": "markdown",
   "metadata": {},
   "source": [
    "### Preprocesamiento de datos "
   ]
  },
  {
   "cell_type": "code",
   "execution_count": 3,
   "metadata": {},
   "outputs": [],
   "source": [
    "#Se normalizan las imagenes RBG diviendo entre 255\n",
    "X_train = X_train.astype(np.float32)/255 \n",
    "X_test = X_test.astype(np.float32)/255 \n",
    "\n",
    "#Se expande la dimension de las matrices para que el algoritmo pueda trabajar con ellas\n",
    "X_train = X_train.reshape(X_train.shape[0], 28, 28, 1)\n",
    "X_test = X_test.reshape(X_test.shape[0], 28, 28, 1)"
   ]
  },
  {
   "cell_type": "code",
   "execution_count": 4,
   "metadata": {},
   "outputs": [],
   "source": [
    "#Se convierten los vectores de resultados a matrices categoricas\n",
    "y_train = keras.utils.to_categorical(y_train)\n",
    "y_test = keras.utils.to_categorical(y_test)"
   ]
  },
  {
   "cell_type": "markdown",
   "metadata": {},
   "source": [
    "### Modelo"
   ]
  },
  {
   "cell_type": "code",
   "execution_count": 6,
   "metadata": {},
   "outputs": [],
   "source": [
    "batch_size = 128\n",
    "num_classes = 10\n",
    "epochs = 10\n",
    "\n",
    "model = Sequential()\n",
    "model.add(Conv2D(32, kernel_size=(3, 3),activation='relu',input_shape= (28,28, 1)))\n",
    "model.add(Conv2D(64, (3, 3), activation='relu'))\n",
    "model.add(MaxPooling2D(pool_size=(2, 2)))\n",
    "model.add(Dropout(0.25))\n",
    "model.add(Flatten())\n",
    "model.add(Dense(256, activation='relu'))\n",
    "model.add(Dropout(0.5))\n",
    "model.add(Dense(num_classes, activation='softmax'))"
   ]
  },
  {
   "cell_type": "code",
   "execution_count": 7,
   "metadata": {},
   "outputs": [],
   "source": [
    "model.compile(loss=keras.losses.categorical_crossentropy,optimizer=keras.optimizers.Adadelta(),metrics=['accuracy'])"
   ]
  },
  {
   "cell_type": "code",
   "execution_count": 8,
   "metadata": {},
   "outputs": [
    {
     "name": "stdout",
     "output_type": "stream",
     "text": [
      "Epoch 1/10\n",
      "469/469 [==============================] - 41s 87ms/step - loss: 2.2732 - accuracy: 0.1542 - val_loss: 2.2313 - val_accuracy: 0.2449\n",
      "Epoch 2/10\n",
      "469/469 [==============================] - 42s 88ms/step - loss: 2.2065 - accuracy: 0.2667 - val_loss: 2.1499 - val_accuracy: 0.4155\n",
      "Epoch 3/10\n",
      "469/469 [==============================] - 42s 89ms/step - loss: 2.1191 - accuracy: 0.3819 - val_loss: 2.0386 - val_accuracy: 0.5901\n",
      "Epoch 4/10\n",
      "469/469 [==============================] - 42s 91ms/step - loss: 1.9980 - accuracy: 0.4902 - val_loss: 1.8836 - val_accuracy: 0.6840\n",
      "Epoch 5/10\n",
      "469/469 [==============================] - 44s 93ms/step - loss: 1.8361 - accuracy: 0.5687 - val_loss: 1.6787 - val_accuracy: 0.7341\n",
      "Epoch 6/10\n",
      "469/469 [==============================] - 44s 95ms/step - loss: 1.6337 - accuracy: 0.6235 - val_loss: 1.4372 - val_accuracy: 0.7633\n",
      "Epoch 7/10\n",
      "469/469 [==============================] - 44s 93ms/step - loss: 1.4183 - accuracy: 0.6616 - val_loss: 1.1972 - val_accuracy: 0.7885\n",
      "Epoch 8/10\n",
      "469/469 [==============================] - 44s 94ms/step - loss: 1.2254 - accuracy: 0.6874 - val_loss: 0.9978 - val_accuracy: 0.8034\n",
      "Epoch 9/10\n",
      "469/469 [==============================] - 44s 94ms/step - loss: 1.0761 - accuracy: 0.7124 - val_loss: 0.8499 - val_accuracy: 0.8197\n",
      "Epoch 10/10\n",
      "469/469 [==============================] - 44s 94ms/step - loss: 0.9633 - accuracy: 0.7290 - val_loss: 0.7425 - val_accuracy: 0.8337\n",
      "The model has successfully trained\n",
      "Saving the model as mnist.h5\n"
     ]
    }
   ],
   "source": [
    "hist = model.fit(X_train, y_train,batch_size=batch_size,epochs=epochs,verbose=1,validation_data=(X_test, y_test))\n",
    "print(\"The model has successfully trained\")\n",
    "model.save('mnist.h5')\n",
    "print(\"Saving the model as mnist.h5\")"
   ]
  }
 ],
 "metadata": {
  "kernelspec": {
   "display_name": "Python 3.9.12 ('base')",
   "language": "python",
   "name": "python3"
  },
  "language_info": {
   "codemirror_mode": {
    "name": "ipython",
    "version": 3
   },
   "file_extension": ".py",
   "mimetype": "text/x-python",
   "name": "python",
   "nbconvert_exporter": "python",
   "pygments_lexer": "ipython3",
   "version": "3.9.12"
  },
  "orig_nbformat": 4,
  "vscode": {
   "interpreter": {
    "hash": "e06ff7da33dc9620448857a90ad8b5f428f0d573d205a934d2841c8aee45ea32"
   }
  }
 },
 "nbformat": 4,
 "nbformat_minor": 2
}
